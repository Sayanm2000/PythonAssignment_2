{
 "cells": [
  {
   "cell_type": "code",
   "execution_count": 1,
   "id": "709c66e6-b042-4120-932e-dbdc4240f3b6",
   "metadata": {},
   "outputs": [
    {
     "name": "stdout",
     "output_type": "stream",
     "text": [
      "x = 79\n",
      "y = 58\n"
     ]
    }
   ],
   "source": [
    "#TOPIC: Python Basics Variable\n",
    "\n",
    "'''1. Declare two variables, `x` and `y`, and assign them integer values. Swap the\n",
    "values of these variables without using any temporary variable.'''\n",
    "\n",
    "x = 58\n",
    "y = 79\n",
    "\n",
    "x, y = y, x\n",
    "print(\"x =\", x)\n",
    "print(\"y =\", y)\n"
   ]
  },
  {
   "cell_type": "code",
   "execution_count": 2,
   "id": "2e135ad7-1498-4fa8-85b4-ef7584709b11",
   "metadata": {},
   "outputs": [
    {
     "name": "stdin",
     "output_type": "stream",
     "text": [
      "Please Enter the Length of a Triangle:  54.3\n",
      "Please Enter the Width of a Triangle:  15.5\n"
     ]
    },
    {
     "name": "stdout",
     "output_type": "stream",
     "text": [
      "The Area of a Rectangle= 54.3 X 15.5  =  841.65\n"
     ]
    }
   ],
   "source": [
    "'''2. Create a program that calculates the area of a rectangle. Take the length and\n",
    "width as inputs from the user and store them in variables. Calculate and\n",
    "display the area.'''\n",
    "\n",
    "length = float(input('Please Enter the Length of a Triangle: '))\n",
    "width = float(input('Please Enter the Width of a Triangle: '))\n",
    "\n",
    "#To calculate the area of a rectangle\n",
    "Area= length * width\n",
    "\n",
    "print(\"The Area of a Rectangle=\", length, \"X\", width, \" = \", Area)"
   ]
  },
  {
   "cell_type": "code",
   "execution_count": 3,
   "id": "5d8e103f-804d-4a60-b715-3d69b1440bb2",
   "metadata": {},
   "outputs": [
    {
     "name": "stdin",
     "output_type": "stream",
     "text": [
      "Enter the Temperature in Celsius : 54.5\n"
     ]
    },
    {
     "name": "stdout",
     "output_type": "stream",
     "text": [
      "Temperature in Fahrenheit : 130.10000000000002\n"
     ]
    }
   ],
   "source": [
    "'''3. Write a Python program that converts temperatures from Celsius to\n",
    "Fahrenheit. Take the temperature in Celsius as input, store it in a variable,\n",
    "convert it to Fahrenheit, and display the result.'''\n",
    "\n",
    "celsius = float(input(\"Enter the Temperature in Celsius :\"))\n",
    "\n",
    "#Celsius to fahrenheit conversion:\n",
    "fahrenheit = (1.8 * celsius) + 32\n",
    "\n",
    "print(\"Temperature in Fahrenheit :\", fahrenheit)"
   ]
  },
  {
   "cell_type": "code",
   "execution_count": 4,
   "id": "a3acf026-7c92-459b-b5c9-c5c2841603fd",
   "metadata": {},
   "outputs": [
    {
     "name": "stdin",
     "output_type": "stream",
     "text": [
      "Enter string input: kbhjgdgd\n"
     ]
    },
    {
     "name": "stdout",
     "output_type": "stream",
     "text": [
      "the length of the string is 8\n"
     ]
    }
   ],
   "source": [
    "#TOPIC: String Based Questions\n",
    "\n",
    "'''1. Write a Python program that takes a string as input and prints the length of\n",
    "the string.'''\n",
    "\n",
    "S=input(\"Enter string input:\")\n",
    "#S taken as variable where input string will be store \n",
    "Length= len(S)\n",
    "\n",
    "print(\"the length of the string is\",Length)"
   ]
  },
  {
   "cell_type": "code",
   "execution_count": 5,
   "id": "ac3c6445-66c3-4026-a2d7-5ebd59e1c9a7",
   "metadata": {},
   "outputs": [
    {
     "name": "stdin",
     "output_type": "stream",
     "text": [
      "Write a sentence: hbvhgrewfbhybufg\n"
     ]
    },
    {
     "name": "stdout",
     "output_type": "stream",
     "text": [
      "2\n"
     ]
    }
   ],
   "source": [
    "'''2. Create a program that takes a sentence from the user and counts the number\n",
    "of vowels (a, e, i, o, u) in the string.'''\n",
    "\n",
    "Sentence= input(\"Write a sentence:\")\n",
    "\n",
    "vowels = \"aeiouAEIOU\"\n",
    " \n",
    "count = sum(Sentence.count(vowel) for vowel in vowels)\n",
    "\n",
    "print(count)"
   ]
  },
  {
   "cell_type": "code",
   "execution_count": 16,
   "id": "327a2c72-0b7e-4fea-9947-176172cbd5fd",
   "metadata": {},
   "outputs": [
    {
     "name": "stdout",
     "output_type": "stream",
     "text": [
      "The original string is :  PW Skills\n",
      "The reversed string is :  sllikS WP\n"
     ]
    }
   ],
   "source": [
    "'''3. Given a string, reverse the order of characters using string slicing and print\n",
    "the reversed string.'''\n",
    "\n",
    "# Function to reverse a string\n",
    " \n",
    "s = \"PW Skills\"\n",
    "reverse = s[::-1]\n",
    " \n",
    "print(\"The original string is : \", s)\n",
    " \n",
    "print(\"The reversed string is : \", reverse)"
   ]
  },
  {
   "cell_type": "code",
   "execution_count": 9,
   "id": "6e2f0bfd-eac0-4ab5-9feb-9c1baebc733f",
   "metadata": {},
   "outputs": [
    {
     "name": "stdin",
     "output_type": "stream",
     "text": [
      "Write a word: malayalam\n"
     ]
    },
    {
     "name": "stdout",
     "output_type": "stream",
     "text": [
      "Yes\n"
     ]
    }
   ],
   "source": [
    "'''4. Write a program that takes a string as input and checks if it is a palindrome\n",
    "(reads the same forwards and backwards).'''\n",
    " \n",
    "word =input(\"Write a word:\")\n",
    "\n",
    "if (word == word[::-1]):\n",
    "    print(\"Yes\")\n",
    "else:\n",
    "    print(\"No\")"
   ]
  },
  {
   "cell_type": "code",
   "execution_count": 6,
   "id": "5a0f07a6-8db8-4430-94f7-9b6bdea9e3e8",
   "metadata": {},
   "outputs": [
    {
     "name": "stdin",
     "output_type": "stream",
     "text": [
      "Give a sentence: My name is Say n Mukh er jee\n"
     ]
    },
    {
     "name": "stdout",
     "output_type": "stream",
     "text": [
      "MynameisSaynMukherjee\n"
     ]
    }
   ],
   "source": [
    "'''5. Create a program that takes a string as input and removes all the spaces from\n",
    "it. Print the modified string without spaces.'''\n",
    "#Removes all the spaces from a string\n",
    "\n",
    "def removeSpaces(string):\n",
    "    string = string.replace(' ','')\n",
    "    return string\n",
    "    \n",
    "string =input(\"Give a sentence:\")\n",
    "print(removeSpaces(string))"
   ]
  },
  {
   "cell_type": "code",
   "execution_count": null,
   "id": "b4983604-84b3-45e9-974d-7394c9de583d",
   "metadata": {},
   "outputs": [],
   "source": []
  }
 ],
 "metadata": {
  "kernelspec": {
   "display_name": "Python 3 (ipykernel)",
   "language": "python",
   "name": "python3"
  },
  "language_info": {
   "codemirror_mode": {
    "name": "ipython",
    "version": 3
   },
   "file_extension": ".py",
   "mimetype": "text/x-python",
   "name": "python",
   "nbconvert_exporter": "python",
   "pygments_lexer": "ipython3",
   "version": "3.10.6"
  }
 },
 "nbformat": 4,
 "nbformat_minor": 5
}
